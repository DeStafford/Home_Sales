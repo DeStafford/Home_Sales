{
 "cells": [
  {
   "cell_type": "code",
   "execution_count": 67,
   "metadata": {
    "colab": {
     "base_uri": "https://localhost:8080/"
    },
    "id": "a_KW73O2e3dw",
    "outputId": "2b5a616e-cf3d-4560-987d-abc264911d8c"
   },
   "outputs": [
    {
     "name": "stdout",
     "output_type": "stream",
     "text": [
      "\r",
      "0% [Working]\r",
      "            \r",
      "Hit:1 http://archive.ubuntu.com/ubuntu jammy InRelease\n",
      "\r",
      "0% [Waiting for headers] [Connecting to security.ubuntu.com (185.125.190.36)] [Waiting for headers] \r",
      "                                                                                                    \r",
      "Get:2 http://archive.ubuntu.com/ubuntu jammy-updates InRelease [119 kB]\n",
      "\r",
      "                                                                                                    \r",
      "Hit:3 https://cloud.r-project.org/bin/linux/ubuntu jammy-cran40/ InRelease\n",
      "\r",
      "0% [2 InRelease 15.6 kB/119 kB 13%] [Waiting for headers] [Connecting to ppa.launchpadcontent.net (1\r",
      "                                                                                                    \r",
      "Hit:4 https://developer.download.nvidia.com/compute/cuda/repos/ubuntu2204/x86_64  InRelease\n",
      "\r",
      "0% [2 InRelease 44.6 kB/119 kB 38%] [Waiting for headers] [Connected to ppa.launchpadcontent.net (18\r",
      "0% [Waiting for headers] [Waiting for headers] [Connected to ppa.launchpadcontent.net (185.125.190.8\r",
      "                                                                                                    \r",
      "Get:5 http://security.ubuntu.com/ubuntu jammy-security InRelease [110 kB]\n",
      "Hit:6 http://archive.ubuntu.com/ubuntu jammy-backports InRelease\n",
      "Hit:7 https://ppa.launchpadcontent.net/c2d4u.team/c2d4u4.0+/ubuntu jammy InRelease\n",
      "Hit:8 https://ppa.launchpadcontent.net/deadsnakes/ppa/ubuntu jammy InRelease\n",
      "Hit:9 https://ppa.launchpadcontent.net/graphics-drivers/ppa/ubuntu jammy InRelease\n",
      "Hit:10 https://ppa.launchpadcontent.net/ubuntugis/ppa/ubuntu jammy InRelease\n",
      "Fetched 229 kB in 2s (127 kB/s)\n",
      "Reading package lists... Done\n"
     ]
    }
   ],
   "source": [
    "import os\n",
    "# Find the latest version of spark 3.x  from http://www.apache.org/dist/spark/ and enter as the spark version\n",
    "# For example:\n",
    "# spark_version = 'spark-3.4.0'\n",
    "spark_version = 'spark-3.5.1'\n",
    "os.environ['SPARK_VERSION']= spark_version\n",
    "\n",
    "# Install Spark and Java\n",
    "!apt-get update\n",
    "!apt-get install openjdk-11-jdk-headless -qq > /dev/null\n",
    "!wget -q http://www.apache.org/dist/spark/$SPARK_VERSION/$SPARK_VERSION-bin-hadoop3.tgz\n",
    "!tar xf $SPARK_VERSION-bin-hadoop3.tgz\n",
    "!pip install -q findspark\n",
    "\n",
    "# Set Environment Variables\n",
    "os.environ[\"JAVA_HOME\"] = \"/usr/lib/jvm/java-11-openjdk-amd64\"\n",
    "os.environ[\"SPARK_HOME\"] = f\"/content/{spark_version}-bin-hadoop3\"\n",
    "\n",
    "# Start a SparkSession\n",
    "import findspark\n",
    "findspark.init()"
   ]
  },
  {
   "cell_type": "code",
   "execution_count": 68,
   "metadata": {
    "id": "2XbWNf1Te5fM"
   },
   "outputs": [],
   "source": [
    "# Import packages\n",
    "from pyspark.sql import SparkSession\n",
    "import time\n",
    "\n",
    "# Create a SparkSession\n",
    "spark = SparkSession.builder.appName(\"SparkSQL\").getOrCreate()"
   ]
  },
  {
   "cell_type": "code",
   "execution_count": 69,
   "metadata": {
    "id": "wOJqxG_RPSwp"
   },
   "outputs": [],
   "source": [
    "# 1. Read in the AWS S3 bucket into a DataFrame.\n",
    "from pyspark import SparkFiles\n",
    "url = \"https://2u-data-curriculum-team.s3.amazonaws.com/dataviz-classroom/v1.2/22-big-data/home_sales_revised.csv\"\n",
    "\n",
    "spark.sparkContext.addFile(url)\n",
    "df = spark.read.csv(SparkFiles.get(\"home_sales_revised.csv\"), sep=\",\", header=True)"
   ]
  },
  {
   "cell_type": "code",
   "execution_count": 70,
   "metadata": {
    "colab": {
     "base_uri": "https://localhost:8080/"
    },
    "id": "1pXA2vlhj2il",
    "outputId": "86ebd9f9-bc1d-482c-c210-ddbfd93eef02"
   },
   "outputs": [
    {
     "name": "stdout",
     "output_type": "stream",
     "text": [
      "+--------------------+----------+----------+------+--------+---------+-----------+--------+------+----------+----+\n",
      "|                  id|      date|date_built| price|bedrooms|bathrooms|sqft_living|sqft_lot|floors|waterfront|view|\n",
      "+--------------------+----------+----------+------+--------+---------+-----------+--------+------+----------+----+\n",
      "|f8a53099-ba1c-47d...|2022-04-08|      2016|936923|       4|        3|       3167|   11733|     2|         1|  76|\n",
      "|7530a2d8-1ae3-451...|2021-06-13|      2013|379628|       2|        2|       2235|   14384|     1|         0|  23|\n",
      "|43de979c-0bf0-4c9...|2019-04-12|      2014|417866|       2|        2|       2127|   10575|     2|         0|   0|\n",
      "|b672c137-b88c-48b...|2019-10-16|      2016|239895|       2|        2|       1631|   11149|     2|         0|   0|\n",
      "|e0726d4d-d595-407...|2022-01-08|      2017|424418|       3|        2|       2249|   13878|     2|         0|   4|\n",
      "|5aa00529-0533-46b...|2019-01-30|      2017|218712|       2|        3|       1965|   14375|     2|         0|   7|\n",
      "|131492a1-72e2-4a8...|2020-02-08|      2017|419199|       2|        3|       2062|    8876|     2|         0|   6|\n",
      "|8d54a71b-c520-44e...|2019-07-21|      2010|323956|       2|        3|       1506|   11816|     1|         0|  25|\n",
      "|e81aacfe-17fe-46b...|2020-06-16|      2016|181925|       3|        3|       2137|   11709|     2|         0|  22|\n",
      "|2ed8d509-7372-46d...|2021-08-06|      2015|258710|       3|        3|       1918|    9666|     1|         0|  25|\n",
      "|f876d86f-3c9f-42b...|2019-02-27|      2011|167864|       3|        3|       2471|   13924|     2|         0|  15|\n",
      "|0a2bd445-8508-4d8...|2021-12-30|      2014|337527|       2|        3|       1926|   12556|     1|         0|  23|\n",
      "|941bad30-eb49-4a7...|2020-05-09|      2015|229896|       3|        3|       2197|    8641|     1|         0|   3|\n",
      "|dd61eb34-6589-4c0...|2021-07-25|      2016|210247|       3|        2|       1672|   11986|     2|         0|  28|\n",
      "|f1e4cef7-d151-439...|2019-02-01|      2011|398667|       2|        3|       2331|   11356|     1|         0|   7|\n",
      "|ea620c7b-c2f7-4c6...|2021-05-31|      2011|437958|       3|        3|       2356|   11052|     1|         0|  26|\n",
      "|f233cb41-6f33-4b0...|2021-07-18|      2016|437375|       4|        3|       1704|   11721|     2|         0|  34|\n",
      "|c797ca12-52cd-4b1...|2019-06-08|      2015|288650|       2|        3|       2100|   10419|     2|         0|   7|\n",
      "|0cfe57f3-28c2-472...|2019-10-04|      2015|308313|       3|        3|       1960|    9453|     2|         0|   2|\n",
      "|4566cd2a-ac6e-435...|2019-07-15|      2016|177541|       3|        3|       2130|   10517|     2|         0|  25|\n",
      "+--------------------+----------+----------+------+--------+---------+-----------+--------+------+----------+----+\n",
      "only showing top 20 rows\n",
      "\n"
     ]
    }
   ],
   "source": [
    "df.show()"
   ]
  },
  {
   "cell_type": "code",
   "execution_count": 71,
   "metadata": {
    "id": "RoljcJ7WPpnm"
   },
   "outputs": [],
   "source": [
    "# 2. Create a temporary view of the DataFrame.\n",
    "df.createOrReplaceTempView('home_sales')"
   ]
  },
  {
   "cell_type": "code",
   "execution_count": 72,
   "metadata": {
    "colab": {
     "base_uri": "https://localhost:8080/"
    },
    "id": "L6fkwOeOmqvq",
    "outputId": "2b380be8-a7ac-43f9-d73a-411a4edd4fa1"
   },
   "outputs": [
    {
     "name": "stdout",
     "output_type": "stream",
     "text": [
      "+---------+-------------+\n",
      "|YEAR_SOLD|AVERAGE_PRICE|\n",
      "+---------+-------------+\n",
      "|     2022|   296,363.88|\n",
      "|     2021|   301,819.44|\n",
      "|     2020|   298,353.78|\n",
      "|     2019|   300,263.70|\n",
      "+---------+-------------+\n",
      "\n"
     ]
    }
   ],
   "source": [
    "# 3. What is the average price for a four bedroom house sold per year, rounded to two decimal places?\n",
    "spark.sql(\"\"\"\n",
    "SELECT YEAR(CAST(date AS DATE)) as YEAR_SOLD,\n",
    "format_number(AVG(price), 2) as AVERAGE_PRICE\n",
    "FROM home_sales\n",
    "WHERE bedrooms = 4\n",
    "GROUP BY YEAR_SOLD\n",
    "ORDER BY YEAR_SOLD DESC\n",
    "\"\"\").show()\n"
   ]
  },
  {
   "cell_type": "code",
   "execution_count": 73,
   "metadata": {
    "colab": {
     "base_uri": "https://localhost:8080/"
    },
    "id": "l8p_tUS8h8it",
    "outputId": "4f4da61d-56d0-4dbd-ae43-ac4dec1769b3"
   },
   "outputs": [
    {
     "name": "stdout",
     "output_type": "stream",
     "text": [
      "+--------+-------------+--------+---------+\n",
      "|BUILT_ON|AVERAGE_PRICE|BEDROOMS|BATHROOMS|\n",
      "+--------+-------------+--------+---------+\n",
      "|    2017|   292,676.79|       3|        3|\n",
      "|    2016|   290,555.07|       3|        3|\n",
      "|    2015|   288,770.30|       3|        3|\n",
      "|    2014|   290,852.27|       3|        3|\n",
      "|    2013|   295,962.27|       3|        3|\n",
      "|    2012|   293,683.19|       3|        3|\n",
      "|    2011|   291,117.47|       3|        3|\n",
      "|    2010|   292,859.62|       3|        3|\n",
      "+--------+-------------+--------+---------+\n",
      "\n"
     ]
    }
   ],
   "source": [
    "# 4. What is the average price of a home for each year the home was built,\n",
    "# that have 3 bedrooms and 3 bathrooms, rounded to two decimal places?\n",
    "spark.sql(\"\"\"\n",
    "SELECT date_built as BUILT_ON,\n",
    "format_number(AVG(price), 2) as AVERAGE_PRICE,\n",
    "bedrooms as BEDROOMS,\n",
    "bathrooms as BATHROOMS\n",
    "FROM home_sales\n",
    "WHERE bedrooms = 3 AND bathrooms = 3\n",
    "GROUP BY BUILT_ON, BEDROOMS, BATHROOMS\n",
    "ORDER BY BUILT_ON DESC\n",
    "\"\"\").show()\n"
   ]
  },
  {
   "cell_type": "code",
   "execution_count": 74,
   "metadata": {
    "colab": {
     "base_uri": "https://localhost:8080/"
    },
    "id": "Y-Eytz64liDU",
    "outputId": "9a3d215d-236b-4ac6-c165-4252afbff1e6"
   },
   "outputs": [
    {
     "name": "stdout",
     "output_type": "stream",
     "text": [
      "+--------+-------------+--------+---------+------+-----------+\n",
      "|BUILT_ON|AVERAGE_PRICE|BEDROOMS|BATHROOMS|FLOORS|SQUARE_FEET|\n",
      "+--------+-------------+--------+---------+------+-----------+\n",
      "|    2017|   201,315.00|       3|        3|     2|       2051|\n",
      "|    2010|   265,472.00|       3|        3|     2|       2196|\n",
      "|    2011|   217,404.00|       3|        3|     2|       2118|\n",
      "|    2012|   218,519.00|       3|        3|     2|       2260|\n",
      "|    2011|   126,371.00|       3|        3|     2|       2241|\n",
      "|    2015|   431,064.00|       3|        3|     2|       2298|\n",
      "|    2011|   175,144.00|       3|        3|     2|       2339|\n",
      "|    2014|   200,106.00|       3|        3|     2|       2003|\n",
      "|    2013|   393,225.00|       3|        3|     2|       2446|\n",
      "|    2017|   120,507.00|       3|        3|     2|       2116|\n",
      "|    2012|   267,107.00|       3|        3|     2|       2193|\n",
      "|    2011|   125,151.00|       3|        3|     2|       2025|\n",
      "|    2010|   176,508.00|       3|        3|     2|       2403|\n",
      "|    2012|   191,422.00|       3|        3|     2|       2454|\n",
      "|    2014|   361,762.00|       3|        3|     2|       2467|\n",
      "|    2012|   273,607.50|       3|        3|     2|       2490|\n",
      "|    2012|   182,700.00|       3|        3|     2|       2090|\n",
      "|    2010|   140,377.00|       3|        3|     2|       2155|\n",
      "|    2015|   390,345.00|       3|        3|     2|       2030|\n",
      "|    2012|   329,388.00|       3|        3|     2|       2205|\n",
      "+--------+-------------+--------+---------+------+-----------+\n",
      "only showing top 20 rows\n",
      "\n"
     ]
    }
   ],
   "source": [
    "# 5. What is the average price of a home for each year the home was built,\n",
    "# that have 3 bedrooms, 3 bathrooms, with two floors,\n",
    "# and are greater than or equal to 2,000 square feet, rounded to two decimal places?\n",
    "spark.sql(\"\"\"\n",
    "SELECT date_built as BUILT_ON,\n",
    "format_number(AVG(price), 2) as AVERAGE_PRICE,\n",
    "bedrooms as BEDROOMS,\n",
    "bathrooms as BATHROOMS,\n",
    "floors as FLOORS,\n",
    "sqft_living as SQUARE_FEET\n",
    "FROM home_sales\n",
    "WHERE bedrooms = 3 AND bathrooms = 3 AND floors = 2 AND sqft_living >= 2000\n",
    "GROUP BY BUILT_ON, BEDROOMS, BATHROOMS, FLOORS, SQUARE_FEET\n",
    "\"\"\").show()\n"
   ]
  },
  {
   "cell_type": "code",
   "execution_count": 75,
   "metadata": {
    "colab": {
     "base_uri": "https://localhost:8080/"
    },
    "id": "oaVLLAnSqfB2",
    "outputId": "9f0ad255-76d0-4b11-d8a5-d9b3673ec3f0"
   },
   "outputs": [
    {
     "name": "stdout",
     "output_type": "stream",
     "text": [
      "+--------+\n",
      "|count(1)|\n",
      "+--------+\n",
      "|    1376|\n",
      "+--------+\n",
      "\n"
     ]
    }
   ],
   "source": [
    "spark.sql(\"\"\"\n",
    "SELECT COUNT(*)\n",
    "FROM home_sales\n",
    "WHERE bedrooms = 3 AND bathrooms = 3 AND floors = 2 AND sqft_living >= 2000\n",
    "\"\"\").show()"
   ]
  },
  {
   "cell_type": "code",
   "execution_count": 76,
   "metadata": {
    "colab": {
     "base_uri": "https://localhost:8080/"
    },
    "id": "GUrfgOX1pCRd",
    "outputId": "1d3a2181-663a-408d-a487-5c7b48023994"
   },
   "outputs": [
    {
     "name": "stdout",
     "output_type": "stream",
     "text": [
      "+-------------+----+\n",
      "|AVERAGE_PRICE|VIEW|\n",
      "+-------------+----+\n",
      "| 1,061,201.42|  99|\n",
      "| 1,053,739.33|  98|\n",
      "| 1,129,040.15|  97|\n",
      "| 1,017,815.92|  96|\n",
      "| 1,054,325.60|  95|\n",
      "| 1,033,536.20|  94|\n",
      "| 1,026,006.06|  93|\n",
      "|   970,402.55|  92|\n",
      "| 1,137,372.73|  91|\n",
      "| 1,062,654.16|  90|\n",
      "|   401,393.34|   9|\n",
      "| 1,107,839.15|  89|\n",
      "| 1,031,719.35|  88|\n",
      "| 1,072,285.20|  87|\n",
      "| 1,070,444.25|  86|\n",
      "| 1,056,336.74|  85|\n",
      "| 1,117,233.13|  84|\n",
      "| 1,033,965.93|  83|\n",
      "| 1,063,498.00|  82|\n",
      "| 1,053,472.79|  81|\n",
      "+-------------+----+\n",
      "only showing top 20 rows\n",
      "\n",
      "--- 0.8958954811096191 seconds ---\n"
     ]
    }
   ],
   "source": [
    "# 6. What is the average price of a home per \"view\" rating, rounded to two decimal places,\n",
    "# having an average home price greater than or equal to $350,000? Order by descending view rating.\n",
    "# Although this is a small dataset, determine the run time for this query.\n",
    "\n",
    "start_time = time.time()\n",
    "\n",
    "spark.sql(\"\"\"\n",
    "SELECT format_number(AVG(price), 2) as AVERAGE_PRICE,\n",
    "view as VIEW\n",
    "FROM home_sales\n",
    "WHERE price >= 350000\n",
    "GROUP BY VIEW\n",
    "ORDER BY view DESC \"\"\").show()\n",
    "\n",
    "\n",
    "print(\"--- %s seconds ---\" % (time.time() - start_time))"
   ]
  },
  {
   "cell_type": "code",
   "execution_count": 77,
   "metadata": {
    "colab": {
     "base_uri": "https://localhost:8080/"
    },
    "id": "RO3bwN-Ssddx",
    "outputId": "b2487b08-95ec-4bba-f708-d8f6a7a0e119"
   },
   "outputs": [
    {
     "name": "stdout",
     "output_type": "stream",
     "text": [
      "+-------------+----+\n",
      "|AVERAGE_PRICE|VIEW|\n",
      "+-------------+----+\n",
      "| 1,026,669.50| 100|\n",
      "+-------------+----+\n",
      "\n"
     ]
    }
   ],
   "source": [
    "spark.sql(\"\"\"\n",
    "SELECT format_number(AVG(price), 2) as AVERAGE_PRICE,\n",
    "view as VIEW\n",
    "FROM home_sales\n",
    "WHERE view = 100\n",
    "GROUP BY VIEW\n",
    "ORDER BY VIEW DESC\"\"\").show()"
   ]
  },
  {
   "cell_type": "code",
   "execution_count": 77,
   "metadata": {
    "id": "3c4D_A6gr1Tb"
   },
   "outputs": [],
   "source": []
  },
  {
   "cell_type": "code",
   "execution_count": 78,
   "metadata": {
    "colab": {
     "base_uri": "https://localhost:8080/"
    },
    "id": "KAhk3ZD2tFy8",
    "outputId": "6133b341-bf5d-4207-d2fc-9652fa96c31e"
   },
   "outputs": [
    {
     "data": {
      "text/plain": [
       "DataFrame[]"
      ]
     },
     "execution_count": 78,
     "metadata": {},
     "output_type": "execute_result"
    }
   ],
   "source": [
    "# 7. Cache the the temporary table home_sales.\n",
    "spark.sql(\"cache table home_sales\")"
   ]
  },
  {
   "cell_type": "code",
   "execution_count": 79,
   "metadata": {
    "colab": {
     "base_uri": "https://localhost:8080/"
    },
    "id": "4opVhbvxtL-i",
    "outputId": "bd4c9852-f892-4626-b308-19a25dee5290"
   },
   "outputs": [
    {
     "data": {
      "text/plain": [
       "True"
      ]
     },
     "execution_count": 79,
     "metadata": {},
     "output_type": "execute_result"
    }
   ],
   "source": [
    "# 8. Check if the table is cached.\n",
    "spark.catalog.isCached('home_sales')"
   ]
  },
  {
   "cell_type": "code",
   "execution_count": 80,
   "metadata": {
    "colab": {
     "base_uri": "https://localhost:8080/"
    },
    "id": "5GnL46lwTSEk",
    "outputId": "381a54c9-99f2-4734-9a61-bf0afcafa834"
   },
   "outputs": [
    {
     "name": "stdout",
     "output_type": "stream",
     "text": [
      "+-------------+----+\n",
      "|AVERAGE_PRICE|VIEW|\n",
      "+-------------+----+\n",
      "| 1,061,201.42|  99|\n",
      "| 1,053,739.33|  98|\n",
      "| 1,129,040.15|  97|\n",
      "| 1,017,815.92|  96|\n",
      "| 1,054,325.60|  95|\n",
      "| 1,033,536.20|  94|\n",
      "| 1,026,006.06|  93|\n",
      "|   970,402.55|  92|\n",
      "| 1,137,372.73|  91|\n",
      "| 1,062,654.16|  90|\n",
      "|   401,393.34|   9|\n",
      "| 1,107,839.15|  89|\n",
      "| 1,031,719.35|  88|\n",
      "| 1,072,285.20|  87|\n",
      "| 1,070,444.25|  86|\n",
      "| 1,056,336.74|  85|\n",
      "| 1,117,233.13|  84|\n",
      "| 1,033,965.93|  83|\n",
      "| 1,063,498.00|  82|\n",
      "| 1,053,472.79|  81|\n",
      "+-------------+----+\n",
      "only showing top 20 rows\n",
      "\n",
      "--- 0.7244729995727539 seconds ---\n"
     ]
    }
   ],
   "source": [
    "# 9. Using the cached data, run the last query above, that calculates\n",
    "# the average price of a home per \"view\" rating, rounded to two decimal places,\n",
    "# having an average home price greater than or equal to $350,000.\n",
    "# Determine the runtime and compare it to the uncached runtime.\n",
    "\n",
    "start_time = time.time()\n",
    "\n",
    "spark.sql(\"\"\"\n",
    "SELECT format_number(AVG(price), 2) as AVERAGE_PRICE,\n",
    "view as VIEW\n",
    "FROM home_sales\n",
    "WHERE price >= 350000\n",
    "GROUP BY VIEW\n",
    "ORDER BY view DESC \"\"\").show()\n",
    "\n",
    "\n",
    "print(\"--- %s seconds ---\" % (time.time() - start_time))\n"
   ]
  },
  {
   "cell_type": "code",
   "execution_count": 81,
   "metadata": {
    "id": "Qm12WN9isHBR"
   },
   "outputs": [],
   "source": [
    "# 10. Partition by the \"date_built\" field on the formatted parquet home sales data\n",
    "df.write.partitionBy(\"date_built\").mode(\"overwrite\").parquet(\"home_sales\")"
   ]
  },
  {
   "cell_type": "code",
   "execution_count": 82,
   "metadata": {
    "id": "AZ7BgY61sRqY"
   },
   "outputs": [],
   "source": [
    "# 11. Read the parquet formatted data.\n",
    "parquet_df = spark.read.parquet('home_sales')"
   ]
  },
  {
   "cell_type": "code",
   "execution_count": 83,
   "metadata": {
    "id": "J6MJkHfvVcvh"
   },
   "outputs": [],
   "source": [
    "# 12. Create a temporary table for the parquet data.\n",
    "parquet_df.createOrReplaceTempView('home_sales_temp')"
   ]
  },
  {
   "cell_type": "code",
   "execution_count": 84,
   "metadata": {
    "colab": {
     "base_uri": "https://localhost:8080/"
    },
    "id": "G_Vhb52rU1Sn",
    "outputId": "279b5c82-6a87-473a-ae1e-74504b33e578"
   },
   "outputs": [
    {
     "name": "stdout",
     "output_type": "stream",
     "text": [
      "+-------------+----+\n",
      "|AVERAGE_PRICE|VIEW|\n",
      "+-------------+----+\n",
      "| 1,061,201.42|  99|\n",
      "| 1,053,739.33|  98|\n",
      "| 1,129,040.15|  97|\n",
      "| 1,017,815.92|  96|\n",
      "| 1,054,325.60|  95|\n",
      "| 1,033,536.20|  94|\n",
      "| 1,026,006.06|  93|\n",
      "|   970,402.55|  92|\n",
      "| 1,137,372.73|  91|\n",
      "| 1,062,654.16|  90|\n",
      "|   401,393.34|   9|\n",
      "| 1,107,839.15|  89|\n",
      "| 1,031,719.35|  88|\n",
      "| 1,072,285.20|  87|\n",
      "| 1,070,444.25|  86|\n",
      "| 1,056,336.74|  85|\n",
      "| 1,117,233.13|  84|\n",
      "| 1,033,965.93|  83|\n",
      "| 1,063,498.00|  82|\n",
      "| 1,053,472.79|  81|\n",
      "+-------------+----+\n",
      "only showing top 20 rows\n",
      "\n",
      "--- 0.5123789310455322 seconds ---\n"
     ]
    }
   ],
   "source": [
    "# 13. Using the parquet DataFrame, run the last query above, that calculates\n",
    "# the average price of a home per \"view\" rating, rounded to two decimal places,\n",
    "# having an average home price greater than or equal to $350,000.\n",
    "# Determine the runtime and compare it to the cached runtime.\n",
    "\n",
    "start_time = time.time()\n",
    "\n",
    "spark.sql(\"\"\"\n",
    "SELECT format_number(AVG(price), 2) as AVERAGE_PRICE,\n",
    "view as VIEW\n",
    "FROM home_sales\n",
    "WHERE price >= 350000\n",
    "GROUP BY VIEW\n",
    "ORDER BY view DESC \"\"\").show()\n",
    "\n",
    "print(\"--- %s seconds ---\" % (time.time() - start_time))"
   ]
  },
  {
   "cell_type": "code",
   "execution_count": 88,
   "metadata": {
    "colab": {
     "base_uri": "https://localhost:8080/"
    },
    "id": "hjjYzQGjtbq8",
    "outputId": "1dc66418-7e0e-4ac7-8fa5-dfbd6af3ddbc"
   },
   "outputs": [
    {
     "data": {
      "text/plain": [
       "DataFrame[]"
      ]
     },
     "execution_count": 88,
     "metadata": {},
     "output_type": "execute_result"
    }
   ],
   "source": [
    "# 14. Uncache the home_sales temporary table.\n",
    "spark.sql(\"uncache table home_sales\")"
   ]
  },
  {
   "cell_type": "code",
   "execution_count": 89,
   "metadata": {
    "colab": {
     "base_uri": "https://localhost:8080/"
    },
    "id": "Sy9NBvO7tlmm",
    "outputId": "7e77f438-c386-41f4-aabd-e0a4d9175a32"
   },
   "outputs": [
    {
     "name": "stdout",
     "output_type": "stream",
     "text": [
      "home_sales is no longer cached!\n"
     ]
    }
   ],
   "source": [
    "# 15. Check if the home_sales is no longer cached\n",
    "if spark.catalog.isCached(\"home_sales\"):\n",
    "  print(\"It seems like home_sales is still cached.\")\n",
    "else:\n",
    "  print(\"home_sales is no longer cached!\")\n"
   ]
  },
  {
   "cell_type": "code",
   "execution_count": null,
   "metadata": {
    "id": "Si-BNruRUGK3"
   },
   "outputs": [],
   "source": []
  }
 ],
 "metadata": {
  "colab": {
   "provenance": []
  },
  "gpuClass": "standard",
  "kernelspec": {
   "display_name": "Python 3 (ipykernel)",
   "language": "python",
   "name": "python3"
  },
  "language_info": {
   "codemirror_mode": {
    "name": "ipython",
    "version": 3
   },
   "file_extension": ".py",
   "mimetype": "text/x-python",
   "name": "python",
   "nbconvert_exporter": "python",
   "pygments_lexer": "ipython3",
   "version": "3.11.5"
  },
  "nteract": {
   "version": "0.28.0"
  }
 },
 "nbformat": 4,
 "nbformat_minor": 1
}
